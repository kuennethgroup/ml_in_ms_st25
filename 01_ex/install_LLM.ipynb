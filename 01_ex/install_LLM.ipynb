{
 "cells": [
  {
   "cell_type": "markdown",
   "metadata": {},
   "source": [
    "# Install Ollama and deploy your own large language model (LLM)"
   ]
  },
  {
   "cell_type": "markdown",
   "metadata": {},
   "source": [
    "1. Connect to coder and set up\n",
    "2. Open directory in the left `ml_in_ms..` \n",
    "3. Open terminal in VScode (Terminal -> New Terminal) \n",
    "4. Execute `uv sync` to install and update the Python dependencies defined in the pyproject.toml\n",
    "5. Execute `curl -fsSL https://ollama.com/install.sh | sh`\n",
    "6. Execute `CUDA_VISIBLE_DEVICES=1 ollama serve &`\n",
    "7. Execute `ollama run gemma3:4b-it-qat`\n",
    "8. **Solve** the exercise and questions in \"evaluate_python_skills.ipynb\" with the help of the deployed model\n",
    "9. Is there any other model better suited at https://ollama.com/library\n",
    "10. Delete models `ollama list` to show models `ollama rm gemma3:4b-it-qat` to delete models. FREE UP some space on Galadriel\n"
   ]
  }
 ],
 "metadata": {
  "language_info": {
   "name": "python"
  }
 },
 "nbformat": 4,
 "nbformat_minor": 2
}
