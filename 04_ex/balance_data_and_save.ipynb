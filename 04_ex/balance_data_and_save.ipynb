{
 "cells": [
  {
   "cell_type": "markdown",
   "metadata": {},
   "source": [
    "# Tutorial: rebalance dataset using undersampling and oversampling\n",
    "\n",
    "<!--<badge>--><a href=\"https://colab.research.google.com/github/kuennethgroup/ml_in_ms_wt24/blob/main/wt_25_ml_in_ms/04_ex/balance_data_and_save.ipynb\" target=\"_parent\"><img src=\"https://colab.research.google.com/assets/colab-badge.svg\" alt=\"Open In Colab\"/></a><!--</badge>-->\n",
    "\n",
    "\n",
    "Read through the tutorial and comments in the Python code."
   ]
  },
  {
   "cell_type": "code",
   "execution_count": 1,
   "metadata": {},
   "outputs": [
    {
     "data": {
      "text/html": [
       "<div>\n",
       "<style scoped>\n",
       "    .dataframe tbody tr th:only-of-type {\n",
       "        vertical-align: middle;\n",
       "    }\n",
       "\n",
       "    .dataframe tbody tr th {\n",
       "        vertical-align: top;\n",
       "    }\n",
       "\n",
       "    .dataframe thead th {\n",
       "        text-align: right;\n",
       "    }\n",
       "</style>\n",
       "<table border=\"1\" class=\"dataframe\">\n",
       "  <thead>\n",
       "    <tr style=\"text-align: right;\">\n",
       "      <th></th>\n",
       "      <th>feat0</th>\n",
       "      <th>feat1</th>\n",
       "      <th>target</th>\n",
       "    </tr>\n",
       "  </thead>\n",
       "  <tbody>\n",
       "    <tr>\n",
       "      <th>0</th>\n",
       "      <td>3.679826</td>\n",
       "      <td>4.681652</td>\n",
       "      <td>carcinogenic</td>\n",
       "    </tr>\n",
       "    <tr>\n",
       "      <th>1</th>\n",
       "      <td>2.947137</td>\n",
       "      <td>4.461168</td>\n",
       "      <td>carcinogenic</td>\n",
       "    </tr>\n",
       "    <tr>\n",
       "      <th>2</th>\n",
       "      <td>4.329681</td>\n",
       "      <td>5.643967</td>\n",
       "      <td>carcinogenic</td>\n",
       "    </tr>\n",
       "    <tr>\n",
       "      <th>3</th>\n",
       "      <td>6.734886</td>\n",
       "      <td>-9.389948</td>\n",
       "      <td>non-carcinogenic</td>\n",
       "    </tr>\n",
       "    <tr>\n",
       "      <th>4</th>\n",
       "      <td>2.443018</td>\n",
       "      <td>3.846526</td>\n",
       "      <td>carcinogenic</td>\n",
       "    </tr>\n",
       "  </tbody>\n",
       "</table>\n",
       "</div>"
      ],
      "text/plain": [
       "      feat0     feat1            target\n",
       "0  3.679826  4.681652      carcinogenic\n",
       "1  2.947137  4.461168      carcinogenic\n",
       "2  4.329681  5.643967      carcinogenic\n",
       "3  6.734886 -9.389948  non-carcinogenic\n",
       "4  2.443018  3.846526      carcinogenic"
      ]
     },
     "execution_count": 1,
     "metadata": {},
     "output_type": "execute_result"
    },
    {
     "data": {
      "image/png": "[encoded data removed]",
      "text/plain": [
       "<Figure size 640x480 with 1 Axes>"
      ]
     },
     "metadata": {},
     "output_type": "display_data"
    }
   ],
   "source": [
    "from sklearn.datasets import make_blobs\n",
    "import pandas as pd\n",
    "\n",
    "data = make_blobs(\n",
    "    n_samples=100, centers=2, cluster_std=1, n_features=2, random_state=10\n",
    ")\n",
    "\n",
    "# Convert the data to a pandas dataframe\n",
    "# data[0] == X, data[1] == y\n",
    "column_names = [f\"feat{n}\" for n in range(data[0].shape[1])]\n",
    "df_blob = pd.DataFrame(data[0], columns=column_names)\n",
    "\n",
    "\n",
    "# add y (or target) but convert to data type string\n",
    "# we do this because we want overwrite the \"0\" and \"1\" with strings\n",
    "df_blob[\"target\"] = data[1].astype(str)\n",
    "# Select all the \"1\"s in the column target\n",
    "df_blob.loc[\n",
    "    df_blob[\"target\"] == \"1\",  # Row; \"1\" not 1 because it's a string\n",
    "    \"target\",  # Column\n",
    "] = \"carcinogenic\"\n",
    "\n",
    "df_blob.loc[\n",
    "    df_blob[\"target\"] == \"0\",\n",
    "    \"target\",\n",
    "] = \"non-carcinogenic\"\n",
    "\n",
    "df_blob[\"target\"].hist()\n",
    "df_blob.head()"
   ]
  },
  {
   "cell_type": "markdown",
   "metadata": {},
   "source": [
    "### Create imbalance\n",
    "\n",
    "Here, we create a artificially imbalanced dataset"
   ]
  },
  {
   "cell_type": "code",
   "execution_count": 2,
   "metadata": {},
   "outputs": [
    {
     "data": {
      "text/plain": [
       "target\n",
       "carcinogenic        50\n",
       "non-carcinogenic    50\n",
       "Name: count, dtype: int64"
      ]
     },
     "metadata": {},
     "output_type": "display_data"
    },
    {
     "data": {
      "text/plain": [
       "target\n",
       "carcinogenic        50\n",
       "non-carcinogenic    30\n",
       "Name: count, dtype: int64"
      ]
     },
     "metadata": {},
     "output_type": "display_data"
    },
    {
     "data": {
      "text/plain": [
       "<Axes: >"
      ]
     },
     "execution_count": 2,
     "metadata": {},
     "output_type": "execute_result"
    },
    {
     "data": {
      "image/png": "[encoded data removed]",
      "text/plain": [
       "<Figure size 640x480 with 1 Axes>"
      ]
     },
     "metadata": {},
     "output_type": "display_data"
    }
   ],
   "source": [
    "# the function value_counts counts the values\n",
    "display(df_blob[\"target\"].value_counts())\n",
    "\n",
    "# remove 10 rows to artificially create an imbalance\n",
    "# we select the only \"non-carcinogenic\" rows and take the 20 first indices \"[:20]\"\n",
    "indices_to_remove = df_blob.loc[\n",
    "    df_blob[\"target\"] == \"non-carcinogenic\",\n",
    "    \"target\",\n",
    "].index[\n",
    "    :20\n",
    "]  # Select the first 20 by slicing\n",
    "\n",
    "# Get rid of these rows\n",
    "df_blob_imbalance = df_blob.drop(indices_to_remove)\n",
    "# Count values again and plot\n",
    "display(df_blob_imbalance[\"target\"].value_counts())\n",
    "df_blob_imbalance[\"target\"].hist()"
   ]
  },
  {
   "cell_type": "markdown",
   "metadata": {},
   "source": [
    "### Oversampling: rebalance the dataset to 50:50\n",
    "\n",
    "1. Duplicate 20 lines in the minority class \"non-carcinogenic\" using pandas to rebalance the dataset to 50:50\n",
    "2. Plot a histogram to confirm the balance of the classes in the dataset\n"
   ]
  },
  {
   "cell_type": "code",
   "execution_count": null,
   "metadata": {},
   "outputs": [],
   "source": []
  },
  {
   "cell_type": "markdown",
   "metadata": {},
   "source": [
    "### Undersampling: rebalance the dataset to 30:30\n",
    "\n",
    "1. Remove 20 lines from the majority class \"carcinogenic\" using pandas to rebalance the dataset to 50:50\n",
    "2. Plot a histogram to confirm the balance of the classes in the data set\n"
   ]
  },
  {
   "cell_type": "code",
   "execution_count": null,
   "metadata": {},
   "outputs": [],
   "source": []
  },
  {
   "cell_type": "markdown",
   "metadata": {},
   "source": [
    "### One-Hot Encoding with sklearn\n",
    "\n",
    " - Use sklearn `OneHotEncoder()` class to create fingerprints for the target labels\n",
    " - Use the dataframe `df_blob` and write the fingerprints to the column `fps` of `df_blob` \n",
    "\n",
    "Hints:\n",
    "-  `from sklearn.preprocessing import OneHotEncoder`"
   ]
  },
  {
   "cell_type": "code",
   "execution_count": null,
   "metadata": {},
   "outputs": [],
   "source": []
  },
  {
   "cell_type": "markdown",
   "metadata": {},
   "source": [
    "### One-Hot Encoding with pandas\n",
    "\n",
    " - Use the `pandas.get_dummies` function to create one-hot fingerprints for the target labels\n",
    " - Use the dataframe `df_blob` and write the fingerprints to the column `fps_pandas` of `df_blob` \n",
    "\n",
    "Hints:\n",
    "-  See https://pandas.pydata.org/docs/reference/api/pandas.get_dummies.html"
   ]
  },
  {
   "cell_type": "code",
   "execution_count": null,
   "metadata": {},
   "outputs": [],
   "source": []
  },
  {
   "cell_type": "markdown",
   "metadata": {},
   "source": [
    "### Save `df_blob` dataframe to disk \n",
    "\n",
    "1. Save in CSV format (filename: `blob.txt`)\n",
    "2. Save in JSON format (filename: `blob.json`)\n",
    "2. Save in parquet format (filename: `blob.parquet`) --> This will raise an error. Carefully read through it an solve the error!"
   ]
  },
  {
   "cell_type": "code",
   "execution_count": null,
   "metadata": {},
   "outputs": [],
   "source": []
  }
 ],
 "metadata": {
  "kernelspec": {
   "display_name": "ml-in-ms-st25",
   "language": "python",
   "name": "python3"
  },
  "language_info": {
   "codemirror_mode": {
    "name": "ipython",
    "version": 3
   },
   "file_extension": ".py",
   "mimetype": "text/x-python",
   "name": "python",
   "nbconvert_exporter": "python",
   "pygments_lexer": "ipython3",
   "version": "3.12.8"
  }
 },
 "nbformat": 4,
 "nbformat_minor": 2
}
